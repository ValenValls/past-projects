{
 "cells": [
  {
   "cell_type": "markdown",
   "metadata": {},
   "source": [
    "# Corroboracion de validez de metodo de la potencia"
   ]
  },
  {
   "cell_type": "code",
   "execution_count": 1,
   "metadata": {},
   "outputs": [],
   "source": [
    "import metnum\n",
    "import numpy as np\n",
    "import matplotlib\n",
    "import matplotlib.pyplot as plt\n",
    "from scipy.stats import ortho_group\n",
    "import time"
   ]
  },
  {
   "cell_type": "code",
   "execution_count": 2,
   "metadata": {},
   "outputs": [],
   "source": [
    "def validatePowerValues(dim,iterations,num_iter=6000,eps=1e-16):\n",
    "    res=True\n",
    "    times=[]\n",
    "    for i in range(iterations):\n",
    "        S = ortho_group.rvs(dim)\n",
    "        vector=np.sort(np.diag(np.random.rand(dim,dim)))[::-1]\n",
    "        D= np.diag(vector)\n",
    "        m=S@D@S.T\n",
    "        start_time = time.time()\n",
    "        U=metnum.get_first_eigenvalues(m,dim,num_iter,eps)\n",
    "        times.append(time.time() - start_time)\n",
    "        res=np.allclose(vector,U[0])\n",
    "        M=U[1]\n",
    "        for q in range(dim):\n",
    "            sign=1 if np.allclose(S[:,q],M[:,q]) else -1\n",
    "            res=res and np.allclose(S[:,q],sign*M[:,q])\n",
    "    return [res,np.array(times).mean()]"
   ]
  },
  {
   "cell_type": "markdown",
   "metadata": {},
   "source": [
    "# Tiempos y correctitud del resultado variando epsilon"
   ]
  },
  {
   "cell_type": "code",
   "execution_count": 3,
   "metadata": {},
   "outputs": [
    {
     "name": "stdout",
     "output_type": "stream",
     "text": [
      "1e-20 : [True, 0.0034223079681396486]\n",
      "1e-18 : [True, 0.0022392511367797852]\n",
      "1e-16 : [True, 0.0008960127830505371]\n",
      "1e-14 : [True, 0.0005740821361541748]\n",
      "1e-12 : [True, 0.0003436028957366943]\n",
      "1e-10 : [True, 0.000367128849029541]\n",
      "1e-08 : [False, 0.00026320219039916993]\n",
      "1e-06 : [False, 0.00016586780548095704]\n",
      "0.0001 : [False, 0.00011568665504455567]\n",
      "0.01 : [False, 2.4437904357910156e-05]\n"
     ]
    }
   ],
   "source": [
    "eps=[1e-20,1e-18,1e-16,1e-14,1e-12,1e-10,1e-8,1e-6,1e-4,1e-2]\n",
    "times=[]\n",
    "didWorked=[]\n",
    "for ep in eps:\n",
    "    res=validatePowerValues(9,40,eps=ep)\n",
    "    times.append(res[1])\n",
    "    didWorked.append(res[0])\n",
    "    print(ep,':',res)"
   ]
  },
  {
   "cell_type": "markdown",
   "metadata": {},
   "source": [
    "# Se ve que un epsilon mas grande que 1e-10 falla la revision del np.allclose, asi que vamos a ver los tiempos para los epsilons que no fallan"
   ]
  },
  {
   "cell_type": "code",
   "execution_count": 4,
   "metadata": {},
   "outputs": [
    {
     "name": "stdout",
     "output_type": "stream",
     "text": [
      "[1e-20, 1e-18, 1e-16, 1e-14, 1e-12, 1e-10]\n",
      "[0.0034223079681396486, 0.0022392511367797852, 0.0008960127830505371, 0.0005740821361541748, 0.0003436028957366943, 0.000367128849029541]\n",
      "0.000367128849029541\n"
     ]
    },
    {
     "data": {
      "text/plain": [
       "[Text(0, 0.5, 'time (s)'), Text(0.5, 0, 'epsilon')]"
      ]
     },
     "execution_count": 4,
     "metadata": {},
     "output_type": "execute_result"
    },
    {
     "data": {
      "image/png": "[encoded data removed]",
      "text/plain": [
       "<Figure size 432x288 with 1 Axes>"
      ]
     },
     "metadata": {
      "needs_background": "light"
     },
     "output_type": "display_data"
    }
   ],
   "source": [
    "fig, ax = plt.subplots()\n",
    "print(eps[:6])\n",
    "print(times[:6])\n",
    "print(times[5])\n",
    "ax.plot(eps[:6], times[:6])\n",
    "ax.set_ylim(bottom=times[6])\n",
    "ax.set(xlabel='epsilon', ylabel='time (s)')"
   ]
  },
  {
   "cell_type": "markdown",
   "metadata": {},
   "source": [
    "# Realizamos pruebas para diferentes iteraciones con un epsilon fijo"
   ]
  },
  {
   "cell_type": "code",
   "execution_count": 5,
   "metadata": {},
   "outputs": [
    {
     "name": "stdout",
     "output_type": "stream",
     "text": [
      "1000 : [False, 0.07134424448013306]\n",
      "2000 : [False, 0.08920909166336059]\n",
      "3000 : [True, 0.10140146017074585]\n",
      "4000 : [True, 0.12636374235153197]\n",
      "5000 : [False, 0.14771269559860228]\n",
      "6000 : [True, 0.12587921619415282]\n",
      "7000 : [False, 0.13000380992889404]\n",
      "8000 : [False, 0.1556897282600403]\n",
      "9000 : [False, 0.186539363861084]\n",
      "10000 : [True, 0.17324920892715454]\n"
     ]
    }
   ],
   "source": [
    "num_iters=[1000,2000,3000,4000,5000,6000,7000,8000,9000,10000]\n",
    "times=[]\n",
    "didWorked=[]\n",
    "for num_iter_value in num_iters:\n",
    "    res=validatePowerValues(20,20,num_iter=num_iter_value)\n",
    "    times.append(res[1])\n",
    "    didWorked.append(res[0])\n",
    "    print(num_iter_value,':',res)"
   ]
  },
  {
   "cell_type": "code",
   "execution_count": 7,
   "metadata": {},
   "outputs": [
    {
     "name": "stdout",
     "output_type": "stream",
     "text": [
      "[7000, 8000, 9000, 10000]\n",
      "[0.13000380992889404, 0.1556897282600403, 0.186539363861084, 0.17324920892715454]\n",
      "0.13000380992889404\n"
     ]
    },
    {
     "data": {
      "text/plain": [
       "[Text(0, 0.5, 'time (s)'), Text(0.5, 0, 'Numero de iteraciones')]"
      ]
     },
     "execution_count": 7,
     "metadata": {},
     "output_type": "execute_result"
    },
    {
     "data": {
      "image/png": "[encoded data removed]",
      "text/plain": [
       "<Figure size 432x288 with 1 Axes>"
      ]
     },
     "metadata": {
      "needs_background": "light"
     },
     "output_type": "display_data"
    }
   ],
   "source": [
    "fig, ax = plt.subplots()\n",
    "print(num_iters[6:])\n",
    "print(times[6:])\n",
    "print(times[6])\n",
    "ax.plot(num_iters[6:], times[6:])\n",
    "ax.set_ylim(bottom=times[6])\n",
    "ax.set(xlabel='Numero de iteraciones', ylabel='time (s)')"
   ]
  },
  {
   "cell_type": "code",
   "execution_count": null,
   "metadata": {},
   "outputs": [],
   "source": []
  }
 ],
 "metadata": {
  "kernelspec": {
   "display_name": "Python 3",
   "language": "python",
   "name": "python3"
  },
  "language_info": {
   "codemirror_mode": {
    "name": "ipython",
    "version": 3
   },
   "file_extension": ".py",
   "mimetype": "text/x-python",
   "name": "python",
   "nbconvert_exporter": "python",
   "pygments_lexer": "ipython3",
   "version": "3.8.3"
  }
 },
 "nbformat": 4,
 "nbformat_minor": 4
}
